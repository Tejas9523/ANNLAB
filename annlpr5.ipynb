{
  "nbformat": 4,
  "nbformat_minor": 0,
  "metadata": {
    "colab": {
      "provenance": [],
      "authorship_tag": "ABX9TyN8XPFLggZVe4itu2WFNpyG",
      "include_colab_link": true
    },
    "kernelspec": {
      "name": "python3",
      "display_name": "Python 3"
    },
    "language_info": {
      "name": "python"
    }
  },
  "cells": [
    {
      "cell_type": "markdown",
      "metadata": {
        "id": "view-in-github",
        "colab_type": "text"
      },
      "source": [
        "<a href=\"https://colab.research.google.com/github/Tejas9523/ANNLAB/blob/main/annlpr5.ipynb\" target=\"_parent\"><img src=\"https://colab.research.google.com/assets/colab-badge.svg\" alt=\"Open In Colab\"/></a>"
      ]
    },
    {
      "cell_type": "code",
      "execution_count": null,
      "metadata": {
        "colab": {
          "base_uri": "https://localhost:8080/"
        },
        "id": "_VE4n5hjcGIc",
        "outputId": "4c8df40f-739d-4398-ecf4-7a9bef9ac6da"
      },
      "outputs": [
        {
          "output_type": "stream",
          "name": "stdout",
          "text": [
            "Input Vector: [1, 1, 1, -1]\n",
            "Output Vector: [ 1  1 -1 -1]\n"
          ]
        }
      ],
      "source": [
        "import numpy as np\n",
        "\n",
        "class BAM:\n",
        "    def __init__(self, pattern1, pattern2):\n",
        "        self.pattern1 = np.array(pattern1)\n",
        "        self.pattern2 = np.array(pattern2)\n",
        "        self.weight_matrix = np.outer(self.pattern1, self.pattern2)\n",
        "\n",
        "    def recall(self, input_vector, max_iterations=100):\n",
        "        input_vector = np.array(input_vector)\n",
        "        output_vector = np.zeros_like(self.pattern2)\n",
        "\n",
        "        for _ in range(max_iterations):\n",
        "            output_vector = self.weight_matrix.T.dot(input_vector)\n",
        "            output_vector = np.sign(output_vector)\n",
        "            input_vector = self.weight_matrix.dot(output_vector)\n",
        "            input_vector = np.sign(input_vector)\n",
        "\n",
        "            if np.array_equal(input_vector, output_vector):\n",
        "                break\n",
        "\n",
        "        return output_vector\n",
        "\n",
        "# Example usage:\n",
        "if __name__ == \"__main__\":\n",
        "    pattern1 = [1, -1, 1, -1]\n",
        "    pattern2 = [1, 1, -1, -1]\n",
        "\n",
        "    bam = BAM(pattern1, pattern2)\n",
        "\n",
        "    input_vector = [1, 1, 1, -1]\n",
        "    output_vector = bam.recall(input_vector)\n",
        "\n",
        "    print(\"Input Vector:\", input_vector)\n",
        "    print(\"Output Vector:\", output_vector)\n"
      ]
    }
  ]
}