{
  "nbformat": 4,
  "nbformat_minor": 0,
  "metadata": {
    "colab": {
      "provenance": [],
      "authorship_tag": "ABX9TyNF0Mc+e/g6x0G+iXA/eWqX",
      "include_colab_link": true
    },
    "kernelspec": {
      "name": "python3",
      "display_name": "Python 3"
    },
    "language_info": {
      "name": "python"
    }
  },
  "cells": [
    {
      "cell_type": "markdown",
      "metadata": {
        "id": "view-in-github",
        "colab_type": "text"
      },
      "source": [
        "<a href=\"https://colab.research.google.com/github/Tejas9523/ANNLAB/blob/main/annlpr2.ipynb\" target=\"_parent\"><img src=\"https://colab.research.google.com/assets/colab-badge.svg\" alt=\"Open In Colab\"/></a>"
      ]
    },
    {
      "cell_type": "code",
      "execution_count": 1,
      "metadata": {
        "id": "uVr885YyFK0p"
      },
      "outputs": [],
      "source": [
        "# importing libraries\n",
        "import numpy as np"
      ]
    },
    {
      "cell_type": "code",
      "source": [
        "# function of checking thresold value\n",
        "def linear_threshold_gate(dot, T):\n",
        "    '''Returns the binary threshold output'''\n",
        "    if dot >= T:\n",
        "        return 1\n",
        "    else:\n",
        "        return 0"
      ],
      "metadata": {
        "id": "PTjhayoXFUzb"
      },
      "execution_count": 2,
      "outputs": []
    },
    {
      "cell_type": "code",
      "source": [
        "# matrix of inputs\n",
        "input_table = np.array([\n",
        "    [0,0], # both no\n",
        "    [0,1], # one no, one yes\n",
        "    [1,0], # one yes, one no\n",
        "    [1,1]  # bot yes\n",
        "])\n",
        "\n",
        "print(f'input table:\\n{input_table}')"
      ],
      "metadata": {
        "colab": {
          "base_uri": "https://localhost:8080/"
        },
        "id": "T1NYF8ruFZMV",
        "outputId": "da05bd1a-f616-4f0c-fc9e-9a3ca175b598"
      },
      "execution_count": 3,
      "outputs": [
        {
          "output_type": "stream",
          "name": "stdout",
          "text": [
            "input table:\n",
            "[[0 0]\n",
            " [0 1]\n",
            " [1 0]\n",
            " [1 1]]\n"
          ]
        }
      ]
    },
    {
      "cell_type": "code",
      "source": [
        "weights = np.array([1,-1])\n",
        "\n",
        "dot_products = input_table @ weights\n",
        "\n",
        "T = 1\n",
        "for i in range(0,4):\n",
        "    activation = linear_threshold_gate(dot_products[i], T)\n",
        "    print(f'Activation: {activation}')"
      ],
      "metadata": {
        "id": "M3oZtE3b1bDH",
        "colab": {
          "base_uri": "https://localhost:8080/"
        },
        "outputId": "7b3af4b6-24ac-440a-8fa6-0850476c07e7"
      },
      "execution_count": 4,
      "outputs": [
        {
          "output_type": "stream",
          "name": "stdout",
          "text": [
            "Activation: 0\n",
            "Activation: 0\n",
            "Activation: 1\n",
            "Activation: 0\n"
          ]
        }
      ]
    }
  ]
}