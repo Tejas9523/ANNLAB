{
  "nbformat": 4,
  "nbformat_minor": 0,
  "metadata": {
    "colab": {
      "provenance": [],
      "authorship_tag": "ABX9TyMf66vwu6um5VQOGY2Znwvw",
      "include_colab_link": true
    },
    "kernelspec": {
      "name": "python3",
      "display_name": "Python 3"
    },
    "language_info": {
      "name": "python"
    }
  },
  "cells": [
    {
      "cell_type": "markdown",
      "metadata": {
        "id": "view-in-github",
        "colab_type": "text"
      },
      "source": [
        "<a href=\"https://colab.research.google.com/github/Tejas9523/ANNLAB/blob/main/annlpr2.ipynb\" target=\"_parent\"><img src=\"https://colab.research.google.com/assets/colab-badge.svg\" alt=\"Open In Colab\"/></a>"
      ]
    },
    {
      "cell_type": "code",
      "execution_count": 1,
      "metadata": {
        "id": "uVr885YyFK0p"
      },
      "outputs": [],
      "source": [
        "x1=[0,0,1,1]\n",
        "x2=[0,1,0,1]\n",
        "y=[0,0,1,0]"
      ]
    },
    {
      "cell_type": "code",
      "source": [
        "def mcculloh(w1,w2):\n",
        "    x=[]\n",
        "    for i , j in zip(x1,x2):\n",
        "        k=(i*w1)+(j*w2)\n",
        "        if k<0:\n",
        "            x.append(0)\n",
        "        else:\n",
        "            x.append(k)\n",
        "    if y==x:\n",
        "        print(\"Done\")\n",
        "    else:\n",
        "        print(\"Invalid\")"
      ],
      "metadata": {
        "id": "PTjhayoXFUzb"
      },
      "execution_count": 2,
      "outputs": []
    },
    {
      "cell_type": "code",
      "source": [
        "mcculloh(1,-1)"
      ],
      "metadata": {
        "colab": {
          "base_uri": "https://localhost:8080/"
        },
        "id": "T1NYF8ruFZMV",
        "outputId": "d76d4b5d-a682-4064-d41f-b281e97b5c26"
      },
      "execution_count": 3,
      "outputs": [
        {
          "output_type": "stream",
          "name": "stdout",
          "text": [
            "Done\n"
          ]
        }
      ]
    }
  ]
}