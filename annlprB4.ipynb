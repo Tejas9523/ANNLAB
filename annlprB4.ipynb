{
  "nbformat": 4,
  "nbformat_minor": 0,
  "metadata": {
    "colab": {
      "provenance": [],
      "authorship_tag": "ABX9TyMrCP4aKAxhxa41U5+zDE3h",
      "include_colab_link": true
    },
    "kernelspec": {
      "name": "python3",
      "display_name": "Python 3"
    },
    "language_info": {
      "name": "python"
    }
  },
  "cells": [
    {
      "cell_type": "markdown",
      "metadata": {
        "id": "view-in-github",
        "colab_type": "text"
      },
      "source": [
        "<a href=\"https://colab.research.google.com/github/Tejas9523/ANNLAB/blob/main/annlprB4.ipynb\" target=\"_parent\"><img src=\"https://colab.research.google.com/assets/colab-badge.svg\" alt=\"Open In Colab\"/></a>"
      ]
    },
    {
      "cell_type": "code",
      "execution_count": 1,
      "metadata": {
        "id": "A9F0_vxtsOaW"
      },
      "outputs": [],
      "source": [
        "import numpy as np"
      ]
    },
    {
      "cell_type": "code",
      "source": [
        "class HopfieldNetwork:\n",
        "    def __init__(self, num_neurons):\n",
        "        self.num_neurons = num_neurons\n",
        "        self.weights = np.zeros((num_neurons, num_neurons))\n",
        "\n",
        "    def train(self, patterns):\n",
        "        # Calculate the weight matrix\n",
        "        for pattern in patterns:\n",
        "            pattern = pattern.reshape(-1, 1)\n",
        "            self.weights += np.dot(pattern, pattern.T)\n",
        "\n",
        "        # Set diagonal elements to 0\n",
        "        np.fill_diagonal(self.weights, 0)\n",
        "\n",
        "    def recall(self, input_pattern, max_iter=100):\n",
        "        current_state = input_pattern.copy()\n",
        "        for _ in range(max_iter):\n",
        "            new_state = np.sign(np.dot(self.weights, current_state))\n",
        "            if np.array_equal(new_state, current_state):\n",
        "                break\n",
        "            current_state = new_state\n",
        "        return current_state\n",
        ""
      ],
      "metadata": {
        "id": "xzYiBYfwuhCp"
      },
      "execution_count": 2,
      "outputs": []
    },
    {
      "cell_type": "code",
      "source": [
        "# Define the patterns to store\n",
        "patterns = np.array([[1, -1, 1, -1],\n",
        "                     [-1, 1, -1, 1],\n",
        "                     [1, 1, -1, -1],\n",
        "                     [-1, -1, 1, 1]])"
      ],
      "metadata": {
        "id": "Wi8LY7FVulTz"
      },
      "execution_count": 3,
      "outputs": []
    },
    {
      "cell_type": "code",
      "source": [
        "# Create a Hopfield Network\n",
        "num_neurons = patterns.shape[1]\n",
        "hopfield_net = HopfieldNetwork(num_neurons)"
      ],
      "metadata": {
        "id": "dRelsErTuo12"
      },
      "execution_count": 4,
      "outputs": []
    },
    {
      "cell_type": "code",
      "source": [
        "# Train the network with the patterns\n",
        "hopfield_net.train(patterns)"
      ],
      "metadata": {
        "id": "A2skrbnfurtK"
      },
      "execution_count": 5,
      "outputs": []
    },
    {
      "cell_type": "code",
      "source": [
        "# Test the network by recalling patterns\n",
        "test_patterns = np.array([[1, -1, 1, 1],\n",
        "                           [-1, 1, 1, 1]])"
      ],
      "metadata": {
        "id": "xp3gR7Oduu2h"
      },
      "execution_count": 6,
      "outputs": []
    },
    {
      "cell_type": "code",
      "source": [
        "for pattern in test_patterns:\n",
        "    recalled_pattern = hopfield_net.recall(pattern)\n",
        "    print(\"Input Pattern:\", pattern)\n",
        "    print(\"Recalled Pattern:\", recalled_pattern.flatten())\n",
        "    print()"
      ],
      "metadata": {
        "colab": {
          "base_uri": "https://localhost:8080/"
        },
        "id": "GVVVAtpluymg",
        "outputId": "ba448e14-c38e-4f70-d476-3a6eb8858ad9"
      },
      "execution_count": 7,
      "outputs": [
        {
          "output_type": "stream",
          "name": "stdout",
          "text": [
            "Input Pattern: [ 1 -1  1  1]\n",
            "Recalled Pattern: [ 1. -1.  1.  1.]\n",
            "\n",
            "Input Pattern: [-1  1  1  1]\n",
            "Recalled Pattern: [-1.  1.  1.  1.]\n",
            "\n"
          ]
        }
      ]
    }
  ]
}